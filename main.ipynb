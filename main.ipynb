{
 "cells": [
  {
   "cell_type": "markdown",
   "metadata": {},
   "source": [
    "# 零.写在最前\n",
    "\n",
    "该项目源于《[飞桨学习赛：钢铁缺陷检测挑战赛](https://aistudio.baidu.com/aistudio/competition/detail/114/0/introduction)》\n",
    "\n",
    "基于飞桨目标检测开发套件PaddleDetection进行快速微调和预测，生成比赛结果文件\n",
    "\n"
   ]
  },
  {
   "cell_type": "markdown",
   "metadata": {},
   "source": [
    "# 一.安装PaddleDetection\n",
    "\n",
    "PaddleDetection为基于飞桨PaddlePaddle的端到端目标检测套件，内置30+模型算法及250+预训练模型，覆盖目标检测、实例分割、跟踪、关键点检测等方向，其中包括服务器端和移动端高精度、轻量级产业级SOTA模型、冠军方案和学术前沿算法，并提供配置化的网络模块组件、十余种数据增强策略和损失函数等高阶优化支持和多种部署方案，在打通数据处理、模型开发、训练、压缩、部署全流程的基础上，提供丰富的案例及教程，加速算法产业落地应用。\n",
    "\n",
    "![](https://ai-studio-static-online.cdn.bcebos.com/2e768bbebe3743a7943a9dc216caf0cc55b30a49940f4f638e7768a4aa6271dc)\n"
   ]
  },
  {
   "cell_type": "markdown",
   "metadata": {},
   "source": [
    "# 二.数据预处理\n",
    "\n",
    "将数据集生成为符合PaddleDetection的格式,这里是VOC格式\n",
    "\n",
    "格式如下：\n",
    "\n",
    "![](https://ai-studio-static-online.cdn.bcebos.com/4f2d65643bfa4ef9a60a98b3c029fef2f6651fd0019e4f8eb195fa14a0bb7ac1)\n"
   ]
  },
  {
   "cell_type": "code",
   "execution_count": null,
   "metadata": {
    "scrolled": true,
    "tags": []
   },
   "outputs": [],
   "source": [
    "import os\n",
    "# 切换到work目录\n",
    "%cd /home/aistudio/work/\n",
    "\n",
    "if not os.path.exists(\"PaddleDetection\"):\n",
    "    # 解压PadddleDetection\n",
    "    !unzip -o PaddleDetection.zip\n",
    "    # 安装其他依赖\n",
    "    %cd PaddleDetection\n",
    "    !pip install -r requirements.txt"
   ]
  },
  {
   "cell_type": "code",
   "execution_count": null,
   "metadata": {
    "collapsed": false,
    "jupyter": {
     "outputs_hidden": false
    },
    "scrolled": true,
    "tags": []
   },
   "outputs": [],
   "source": [
    "# 切换到数据集目录\n",
    "%cd /home/aistudio/data/data169999\n",
    "\n",
    "!rm -rf train test\n",
    "\n",
    "# 解压数据集\n",
    "!unzip -o train.zip\n",
    "!unzip -o test.zip"
   ]
  },
  {
   "cell_type": "code",
   "execution_count": 4,
   "metadata": {
    "collapsed": false,
    "execution": {
     "iopub.execute_input": "2022-12-14T05:34:28.318854Z",
     "iopub.status.busy": "2022-12-14T05:34:28.318252Z",
     "iopub.status.idle": "2022-12-14T05:34:28.550075Z",
     "shell.execute_reply": "2022-12-14T05:34:28.549057Z",
     "shell.execute_reply.started": "2022-12-14T05:34:28.318813Z"
    },
    "jupyter": {
     "outputs_hidden": false
    },
    "scrolled": true,
    "tags": []
   },
   "outputs": [
    {
     "name": "stdout",
     "output_type": "stream",
     "text": [
      "总用量 27654\r\n",
      "drwxrwxrwx 1 aistudio aistudio     4096 12月 14 13:34 .\r\n",
      "drwxrwxrwx 1 aistudio aistudio     4096 12月 14 13:31 ..\r\n",
      "drwxrwxr-x 4 aistudio aistudio     4096 12月 14 13:34 __MACOSX\r\n",
      "drwxr-xr-x 4 aistudio aistudio     4096 8月  26  2021 test\r\n",
      "-rwxrwxrwx 1 aistudio aistudio  6055677 12月 14 13:32 test.zip\r\n",
      "drwxr-xr-x 4 aistudio aistudio     4096 7月  23  2021 train\r\n",
      "-rwxrwxrwx 1 aistudio aistudio 22240365 12月 14 13:32 train.zip\r\n"
     ]
    }
   ],
   "source": [
    "# 查看目录\n",
    "! ls -all"
   ]
  },
  {
   "cell_type": "code",
   "execution_count": null,
   "metadata": {
    "scrolled": true,
    "tags": []
   },
   "outputs": [],
   "source": [
    "! ls -all train\n",
    "! ls -all test\n",
    "\n",
    "! mv train/ANNOTATIONS/ train/annotations\n",
    "! mv train/IMAGES/ train/images\n",
    "\n",
    "! mv test/IMAGES/ test/images\n",
    "\n",
    "! ls -all train\n",
    "! ls -all test"
   ]
  },
  {
   "cell_type": "code",
   "execution_count": 6,
   "metadata": {
    "execution": {
     "iopub.execute_input": "2022-12-14T05:34:34.223609Z",
     "iopub.status.busy": "2022-12-14T05:34:34.222945Z",
     "iopub.status.idle": "2022-12-14T05:34:34.235057Z",
     "shell.execute_reply": "2022-12-14T05:34:34.234372Z",
     "shell.execute_reply.started": "2022-12-14T05:34:34.223566Z"
    },
    "scrolled": true,
    "tags": []
   },
   "outputs": [],
   "source": [
    "import random\n",
    "class Pre(object):\n",
    "    def __init__(self):\n",
    "        self.categorys = {\n",
    "            'crazing':0,\n",
    "            'inclusion':1,\n",
    "            'pitted_surface':2,\n",
    "            'scratches':3,\n",
    "            'patches':4,\n",
    "            'rolled-in_scale':5\n",
    "        }\n",
    "        self.trainDataRatio = 0.9\n",
    "\n",
    "    def run(self):\n",
    "        # 生成label_list.txt\n",
    "        labelFile = open('train/label_list.txt', 'w')\n",
    "        for key, value in self.categorys.items():\n",
    "            labelFile.write(key)\n",
    "            labelFile.write('\\n')\n",
    "\n",
    "        # 生成train.txt和valid.txt\n",
    "        trainFile = open('train/train.txt', 'w')\n",
    "        vaildFile = open('train/valid.txt', 'w')\n",
    "        trainNums = int(1400*self.trainDataRatio)\n",
    "        alls = range(0,1400)\n",
    "        trainIndexs = random.sample(alls, trainNums)\n",
    "        vaildIndexs = ret = list(set(alls) ^ set(trainIndexs))\n",
    "\n",
    "        for k in trainIndexs:\n",
    "            trainFile.write('./images/'+str(k)+'.jpg ./annotations/'+str(k)+'.xml')\n",
    "            trainFile.write('\\n')\n",
    "\n",
    "        for k in vaildIndexs:\n",
    "            vaildFile.write('./images/'+str(k)+'.jpg ./annotations/'+str(k)+'.xml')\n",
    "            vaildFile.write('\\n')\n",
    "\n",
    "\n",
    "preObj = Pre()\n",
    "preObj.run()     "
   ]
  },
  {
   "cell_type": "code",
   "execution_count": 7,
   "metadata": {
    "execution": {
     "iopub.execute_input": "2022-12-14T05:34:37.057129Z",
     "iopub.status.busy": "2022-12-14T05:34:37.056511Z",
     "iopub.status.idle": "2022-12-14T05:34:37.862473Z",
     "shell.execute_reply": "2022-12-14T05:34:37.861351Z",
     "shell.execute_reply.started": "2022-12-14T05:34:37.057091Z"
    },
    "scrolled": true,
    "tags": []
   },
   "outputs": [],
   "source": [
    "# 拷贝数据集到 PadddleDetection 对应目录下\n",
    "!mkdir -p /home/aistudio/work/PaddleDetection/dataset/mine_voc/\n",
    "!cp -r train/* /home/aistudio/work/PaddleDetection/dataset/mine_voc/\n",
    "!cp -r test /home/aistudio/work/PaddleDetection/dataset/mine_voc/"
   ]
  },
  {
   "cell_type": "markdown",
   "metadata": {},
   "source": [
    "# 三.训练\n",
    "\n",
    "训练需要配置文件。\n",
    "\n",
    "1.入口配置文件:\n",
    "\n",
    "/work/PaddleDetection/configs/ppyoloe/ppyoloe_plus_crn_x_80e_coco.yml\n",
    "\n",
    "```\n",
    "_BASE_: [\n",
    "  '../datasets/mine_voc.yml',\n",
    "  '../runtime.yml',\n",
    "  './_base_/optimizer_80e.yml',\n",
    "  './_base_/ppyoloe_plus_crn.yml',\n",
    "  './_base_/ppyoloe_plus_reader.yml',\n",
    "]\n",
    "\n",
    "log_iter: 5\n",
    "snapshot_epoch: 1\n",
    "weights: output/ppyoloe_plus_crn_x_80e_coco/model_final\n",
    "\n",
    "pretrain_weights: https://bj.bcebos.com/v1/paddledet/models/pretrained/ppyoloe_crn_x_obj365_pretrained.pdparams\n",
    "```\n",
    "\n",
    "  \n",
    "mine_voc.yml 主要说明了训练数据和验证数据的路径\n",
    "\n",
    "runtime.yml 主要说明了公共的运行参数，比如说是否使用GPU、每多少个epoch存储checkpoint等\n",
    "\n",
    "optimizer_80e.yml 主要说明了学习率和优化器的配置。\n",
    "\n",
    "ppyoloe_plus_crn.yml 主要说明模型、和主干网络的情况。\n",
    "\n",
    "ppyoloe_plus_reader.yml 主要说明数据读取器配置，如batch size，并发加载子进程数等，同时包含读取后预处理操作，如resize、数据增强等等\n"
   ]
  },
  {
   "cell_type": "code",
   "execution_count": null,
   "metadata": {
    "scrolled": true,
    "tags": []
   },
   "outputs": [],
   "source": [
    "# 单卡GPU 训练\n",
    "%cd /home/aistudio/work/PaddleDetection/\n",
    "\n",
    "!export CUDA_VISIBLE_DEVICES=0\n",
    "\n",
    "# 训练，--eval 边训练边评估\n",
    "!python tools/train.py \\\n",
    "        -c configs/ppyoloe/ppyoloe_plus_crn_x_80e_coco.yml \\\n",
    "        --use_vdl=true \\\n",
    "        --vdl_log_dir=vdl_dir/scalar \\\n",
    "        --eval\n",
    "\n",
    "\n",
    "# [11/09 20:15:02] ppdet.engine INFO: Epoch: [53] [  0/157] learning_rate: 0.000043 loss: 1.640873 loss_cls: 0.768857 loss_iou: 0.159550 loss_dfl: 0.975133 loss_l1: 0.374083 eta: 0:33:40 batch_cost: 0.4564 data_cost: 0.0005 ips: 17.5284 images/s\n",
    "# [11/09 20:15:14] ppdet.engine INFO: Epoch: [53] [ 20/157] learning_rate: 0.000042 loss: 1.623144 loss_cls: 0.784792 loss_iou: 0.148097 loss_dfl: 0.928553 loss_l1: 0.350931 eta: 0:33:30 batch_cost: 0.4790 data_cost: 0.0003 ips: 16.7022 images/s\n",
    "# [11/09 20:15:27] ppdet.engine INFO: Epoch: [53] [ 40/157] learning_rate: 0.000042 loss: 1.667645 loss_cls: 0.778825 loss_iou: 0.157998 loss_dfl: 0.953017 loss_l1: 0.396211 eta: 0:33:21 batch_cost: 0.4920 data_cost: 0.0003 ips: 16.2617 images/s\n",
    "# [11/09 20:15:39] ppdet.engine INFO: Epoch: [53] [ 60/157] learning_rate: 0.000042 loss: 1.702080 loss_cls: 0.819409 loss_iou: 0.166717 loss_dfl: 0.961283 loss_l1: 0.377798 eta: 0:33:11 batch_cost: 0.4605 data_cost: 0.0003 ips: 17.3721 images/s\n",
    "# [11/09 20:15:50] ppdet.engine INFO: Epoch: [53] [ 80/157] learning_rate: 0.000042 loss: 1.685796 loss_cls: 0.820941 loss_iou: 0.159150 loss_dfl: 0.994252 loss_l1: 0.389399 eta: 0:33:01 batch_cost: 0.4379 data_cost: 0.0003 ips: 18.2674 images/s\n",
    "# [11/09 20:16:02] ppdet.engine INFO: Epoch: [53] [100/157] learning_rate: 0.000042 loss: 1.617593 loss_cls: 0.744304 loss_iou: 0.155046 loss_dfl: 0.947161 loss_l1: 0.374160 eta: 0:32:52 batch_cost: 0.4626 data_cost: 0.0003 ips: 17.2947 images/s\n",
    "# [11/09 20:16:14] ppdet.engine INFO: Epoch: [53] [120/157] learning_rate: 0.000041 loss: 1.675176 loss_cls: 0.807137 loss_iou: 0.160434 loss_dfl: 0.964645 loss_l1: 0.397004 eta: 0:32:42 batch_cost: 0.4787 data_cost: 0.0003 ips: 16.7128 images/s\n",
    "# [11/09 20:16:26] ppdet.engine INFO: Epoch: [53] [140/157] learning_rate: 0.000041 loss: 1.648713 loss_cls: 0.788865 loss_iou: 0.151504 loss_dfl: 0.928811 loss_l1: 0.361151 eta: 0:32:33 batch_cost: 0.4757 data_cost: 0.0003 ips: 16.8159 images/s\n",
    "# [11/09 20:16:41] ppdet.utils.checkpoint INFO: Save checkpoint: output/ppyoloe_plus_crn_x_80e_coco\n",
    "# [11/09 20:16:41] ppdet.engine INFO: Eval iter: 0\n",
    "# [11/09 20:16:54] ppdet.metrics.metrics INFO: Accumulating evaluatation results...\n",
    "# [11/09 20:16:54] ppdet.metrics.metrics INFO: mAP(0.50, integral) = 79.64%\n",
    "# [11/09 20:16:54] ppdet.engine INFO: Total sample number: 140, averge FPS: 10.8917303840318\n",
    "# [11/09 20:16:54] ppdet.engine INFO: Best test bbox ap is 0.796.\n",
    "# [11/09 20:17:06] ppdet.utils.checkpoint INFO: Save checkpoint: output/ppyoloe_plus_crn_x_80e_coco"
   ]
  },
  {
   "cell_type": "markdown",
   "metadata": {},
   "source": [
    "# 四.评估模型\n",
    "\n",
    "可以在output/ppyoloe_plus_crn_x_80e_coco/目录下指定某个epoch的参数，或者直接用最终的参数,或者指定最优权重\n",
    "\n"
   ]
  },
  {
   "cell_type": "code",
   "execution_count": null,
   "metadata": {
    "scrolled": true,
    "tags": []
   },
   "outputs": [],
   "source": [
    "%cd /home/aistudio/work/PaddleDetection/\n",
    "!python tools/eval.py \\\n",
    "        -c configs/ppyoloe/ppyoloe_plus_crn_x_80e_coco.yml \\\n",
    "        -o weights=/home/aistudio/work/PaddleDetection/output/ppyoloe_plus_crn_x_80e_coco/best_model.pdparams"
   ]
  },
  {
   "cell_type": "markdown",
   "metadata": {},
   "source": [
    "# 五.预测\n",
    "\n",
    "--infer_dir 表示预测的图片文件夹\n",
    "--output_dir 表示输出的图片文件夹\n",
    "--draw_threshold 可视化阀值\n",
    "-o weights 权重路径\n",
    "--use_vdl 可视化\n",
    "--save_results 保存结果，这里设置为True"
   ]
  },
  {
   "cell_type": "code",
   "execution_count": null,
   "metadata": {
    "scrolled": true,
    "tags": []
   },
   "outputs": [],
   "source": [
    "%cd /home/aistudio/work/PaddleDetection/\n",
    "!python tools/infer.py -c configs/ppyoloe/ppyoloe_plus_crn_x_80e_coco.yml \\\n",
    "                    --infer_dir=dataset/mine_voc/test/images \\\n",
    "                    --output_dir=mine_output/ \\\n",
    "                    --draw_threshold=0.1 \\\n",
    "                    -o weights=output/ppyoloe_plus_crn_x_80e_coco/best_model.pdparams \\\n",
    "                    --use_vdl=True \\\n",
    "\t\t\t\t\t--save_results=True"
   ]
  },
  {
   "cell_type": "markdown",
   "metadata": {},
   "source": [
    "结果保存在mine_output目录下\n",
    "\n",
    "特别注意。在aistudio 平台上运行infer.py，得到的测试集图片列表不一定是按照数字大小排序，所以修改了infer.py源代码，修改部分如下图\n",
    "\n",
    "![](https://ai-studio-static-online.cdn.bcebos.com/932309aabd2645c792b74ca778b240c72ea885a2403d4d69b618fd2eb896b04f)\n"
   ]
  },
  {
   "cell_type": "markdown",
   "metadata": {
    "tags": []
   },
   "source": [
    "# 六.生成比赛结果"
   ]
  },
  {
   "cell_type": "code",
   "execution_count": 26,
   "metadata": {
    "execution": {
     "iopub.execute_input": "2022-11-09T12:46:02.591211Z",
     "iopub.status.busy": "2022-11-09T12:46:02.590527Z",
     "iopub.status.idle": "2022-11-09T12:46:04.462144Z",
     "shell.execute_reply": "2022-11-09T12:46:04.460864Z",
     "shell.execute_reply.started": "2022-11-09T12:46:02.591187Z"
    },
    "scrolled": true,
    "tags": []
   },
   "outputs": [],
   "source": [
    "import glob\n",
    "import os\n",
    "import json\n",
    "import pandas as pd\n",
    "class Result(object):\n",
    "    def __init__(self):\n",
    "        self.imagesPath = '/home/aistudio/work/PaddleDetection/mine_output/'\n",
    "        self.bboxPath = '/home/aistudio/work/PaddleDetection/mine_output/bbox.json'\n",
    "        self.submissionPath = '/home/aistudio/work/submission.csv'\n",
    "\n",
    "    def run(self):\n",
    "        images = self.get_image_ids()\n",
    "        bbox = self.get_bbox()\n",
    "        results = []\n",
    "        for i in range(len(images)):\n",
    "            image_id = images[i]\n",
    "            for j in range(len(bbox['bbox'][i])):\n",
    "                bbox_  = [int(i) for i in bbox['bbox'][i][j]]\n",
    "                item = [\n",
    "                    image_id,\n",
    "                    bbox_,\n",
    "                    int(bbox['label'][i][j]),\n",
    "                    round(bbox['score'][i][j],2)\n",
    "                    ]\n",
    "                results.append(item)\n",
    "        \n",
    "        submit = pd.DataFrame(results, columns=['image_id', 'bbox','category_id','confidence'])\n",
    "        submit[['image_id', 'bbox','category_id','confidence']].to_csv(self.submissionPath, index=False)\n",
    "\n",
    "    def get_image_ids(self):\n",
    "        images = set()\n",
    "        exts = ['jpg']\n",
    "        for ext in exts:\n",
    "            images.update(glob.glob('{}/*.{}'.format(self.imagesPath, ext)))\n",
    "        images = list(images)\n",
    "        lists = []\n",
    "        for item in images:\n",
    "            item = item.replace(self.imagesPath,'')\n",
    "            lists.append(item)\n",
    "        lists.sort(key=lambda x:int(x.split('.')[0]))\n",
    "        ids = []\n",
    "        for fname in lists:\n",
    "            ids.append(fname.replace('.jpg',''))\n",
    "        return ids\n",
    "\n",
    "    def get_bbox(self):\n",
    "        with open(self.bboxPath, 'r', encoding='utf-8') as bbox:\n",
    "            bbox = json.load(bbox)\n",
    "        return bbox\n",
    "\n",
    "resultObj = Result()\n",
    "resultObj.run()"
   ]
  },
  {
   "cell_type": "markdown",
   "metadata": {},
   "source": [
    "最终生成的结果保存在work/submission.csv 下，将其压缩后进行提交为11月榜5\n",
    "![](https://ai-studio-static-online.cdn.bcebos.com/a1e0dda85961440b91af89738eb2e1c4c271a3c166194b2a963fef4b6f0499c4)\n",
    "\n",
    "\n",
    "\n",
    "# 7.总结\n",
    "\n",
    "通过PaddleDetection可以快速实现检测目标任务\n",
    "\n",
    "优化方向\n",
    "\n",
    "1.本项目用的是ppyoloe_x_80e模型, 可以尝试换下学术界霸榜的transformer系列模型\n",
    "\n",
    "2.诸如学习率，数据增强等参数还有调优的可能"
   ]
  }
 ],
 "metadata": {
  "kernelspec": {
   "display_name": "Python 3",
   "language": "python",
   "name": "py35-paddle1.2.0"
  },
  "language_info": {
   "codemirror_mode": {
    "name": "ipython",
    "version": 3
   },
   "file_extension": ".py",
   "mimetype": "text/x-python",
   "name": "python",
   "nbconvert_exporter": "python",
   "pygments_lexer": "ipython3",
   "version": "3.7.4"
  }
 },
 "nbformat": 4,
 "nbformat_minor": 4
}
